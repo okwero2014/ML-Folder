{
 "cells": [
  {
   "cell_type": "code",
   "execution_count": null,
   "metadata": {},
   "outputs": [],
   "source": [
    "import os\n",
    "import datetime\n",
    "while 1:\n",
    "    # saving current time\n",
    "    today = datetime.datetime.today()\n",
    "    today= str(today)\n",
    "    current_hour = today[11:13]\n",
    "    current_minute = today[14:16]\n",
    "    current_sec = today[17:19]\n",
    "\n",
    "    # making sure code will run at exact '08:00'\n",
    "    if current_hour == '08' and current_minute == '03' and current_sec == '00':\n",
    "        # changing directory to documents\n",
    "        os.chdir('C:/Users/Oscar Okwero/Downloads/')\n",
    "        # saving all file names in a list\n",
    "        files = os.listdir(os.getcwd())\n",
    "        # creating 'backup' directory if not exist\n",
    "        if not os.path.exists('backup'):\n",
    "            os.mkdir('backup')\n",
    "\n",
    "        for file in files:\n",
    "\n",
    "            # ignoring directories\n",
    "            if not os.path.isdir(file):\n",
    "                # defining a filename without spaces\n",
    "                original_name = file\n",
    "                file = file.split(\" \")\n",
    "                file_name = \"\".join(file)\n",
    "                # defining zip_filename\n",
    "                zip_file_name = file_name+\".zip\"\n",
    "\n",
    "                # checking if file already exist in backup directory or not\n",
    "                if not os.path.exists('backup/'+zip_file_name):\n",
    "                    # changing file name without spaces\n",
    "                    os.rename(original_name, file_name)\n",
    "                    # creating zip file using system command\n",
    "                    os.system(\"zip \"+zip_file_name+\" \"+file_name)\n",
    "                    #moving zip file in backup directory using system command\n",
    "                    os.system(\"mv \"+zip_file_name+\" backup\")\n",
    "                    # changing filename to its original name\n",
    "                    os.rename(file_name, original_name)"
   ]
  },
  {
   "cell_type": "code",
   "execution_count": null,
   "metadata": {},
   "outputs": [],
   "source": []
  },
  {
   "cell_type": "code",
   "execution_count": null,
   "metadata": {},
   "outputs": [],
   "source": []
  }
 ],
 "metadata": {
  "kernelspec": {
   "display_name": "Python 3",
   "language": "python",
   "name": "python3"
  },
  "language_info": {
   "codemirror_mode": {
    "name": "ipython",
    "version": 3
   },
   "file_extension": ".py",
   "mimetype": "text/x-python",
   "name": "python",
   "nbconvert_exporter": "python",
   "pygments_lexer": "ipython3",
   "version": "3.7.3"
  }
 },
 "nbformat": 4,
 "nbformat_minor": 2
}
