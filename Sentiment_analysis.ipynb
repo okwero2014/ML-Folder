{
 "cells": [
  {
   "cell_type": "code",
   "execution_count": null,
   "metadata": {},
   "outputs": [],
   "source": [
    "import tweepy\n",
    "from textblob import TextBlob\n",
    "\n",
    "consumer_key = 'qVohp0XKiZTzWFKoduGEmdjae'\n",
    "consumer_key_secret = 'MLUyfwWIbQtYMPlpy5a6QBKnpuzRlpeTKmeTHf7W1H6QEIrs2e'\n",
    "access_token = '204819136-ZYmQJX4Jr8KmjM2eahrERtbTgsSTqAIoEpJITb8D'\n",
    "access_token_secret = 'k7jbW56MSenotZ9KinOPB0R0bHLL08fEIH8xK0eWWwGPj'\n",
    "\n",
    "auth = tweepy.OAuthHandler(consumer_key, consumer_key_secret)\n",
    "auth.set_access_token(access_token, access_token_secret)\n",
    "api = tweepy.API(auth)\n",
    "\n",
    "search_term = input(\"Enter a search keyword:\")\n",
    "\n",
    "public_tweets = api.search(search_term)\n",
    "\n",
    "for tweet in public_tweets:   \n",
    "    print(tweet.text)\n",
    "    #print(tweet.location)\n",
    "    analysis = TextBlob(tweet.text)  \n",
    "    print(analysis.sentiment)  \n",
    "    if analysis.sentiment[0]>0:  \n",
    "        print ('Positive')    \n",
    "    elif analysis.sentiment[0]<0: \n",
    "        print ('Negative')    \n",
    "    else:       print('Neutral')"
   ]
  },
  {
   "cell_type": "code",
   "execution_count": null,
   "metadata": {},
   "outputs": [],
   "source": [
    " "
   ]
  },
  {
   "cell_type": "code",
   "execution_count": null,
   "metadata": {},
   "outputs": [],
   "source": []
  },
  {
   "cell_type": "code",
   "execution_count": null,
   "metadata": {},
   "outputs": [],
   "source": []
  },
  {
   "cell_type": "code",
   "execution_count": null,
   "metadata": {},
   "outputs": [],
   "source": []
  },
  {
   "cell_type": "code",
   "execution_count": null,
   "metadata": {},
   "outputs": [],
   "source": []
  },
  {
   "cell_type": "code",
   "execution_count": null,
   "metadata": {},
   "outputs": [],
   "source": []
  },
  {
   "cell_type": "code",
   "execution_count": null,
   "metadata": {},
   "outputs": [],
   "source": []
  },
  {
   "cell_type": "code",
   "execution_count": null,
   "metadata": {},
   "outputs": [],
   "source": []
  },
  {
   "cell_type": "code",
   "execution_count": null,
   "metadata": {},
   "outputs": [],
   "source": []
  },
  {
   "cell_type": "code",
   "execution_count": null,
   "metadata": {},
   "outputs": [],
   "source": []
  },
  {
   "cell_type": "code",
   "execution_count": null,
   "metadata": {},
   "outputs": [],
   "source": []
  },
  {
   "cell_type": "code",
   "execution_count": null,
   "metadata": {},
   "outputs": [],
   "source": []
  }
 ],
 "metadata": {
  "kernelspec": {
   "display_name": "Python 3",
   "language": "python",
   "name": "python3"
  },
  "language_info": {
   "codemirror_mode": {
    "name": "ipython",
    "version": 3
   },
   "file_extension": ".py",
   "mimetype": "text/x-python",
   "name": "python",
   "nbconvert_exporter": "python",
   "pygments_lexer": "ipython3",
   "version": "3.7.3"
  }
 },
 "nbformat": 4,
 "nbformat_minor": 2
}
