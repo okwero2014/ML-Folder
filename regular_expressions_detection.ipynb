{
 "cells": [
  {
   "cell_type": "code",
   "execution_count": 5,
   "metadata": {},
   "outputs": [
    {
     "name": "stdout",
     "output_type": "stream",
     "text": [
      "['shubhamg199630@gmail.com', 'priya@yahoo.com']\n"
     ]
    }
   ],
   "source": [
    "import re #detecting emails\n",
    "s = 'Hello from shubhamg199630@gmail.com to priya@yahoo.com about the meeting @2PM'\n",
    "\n",
    "lst = re.findall('\\S+@\\S+', s)   \n",
    "print(lst)"
   ]
  },
  {
   "cell_type": "code",
   "execution_count": 9,
   "metadata": {},
   "outputs": [
    {
     "name": "stdout",
     "output_type": "stream",
     "text": [
      "['33423223', '123456789', '342355', '987654321']\n"
     ]
    }
   ],
   "source": [
    "#Phone number\n",
    "string  = \"\"\"Hel33423223lo my Number is 123456789 and \n",
    "             my friend's 342355 number is 987654321\"\"\"\n",
    "regex = '\\d+'             \n",
    "  \n",
    "match = re.findall(regex, string) \n",
    "print(match) "
   ]
  },
  {
   "cell_type": "code",
   "execution_count": 10,
   "metadata": {},
   "outputs": [
    {
     "name": "stdout",
     "output_type": "stream",
     "text": [
      "11422 \n",
      "11422-7903\n",
      "11598 \n",
      "11723 \n",
      "11111-2222\n"
     ]
    }
   ],
   "source": [
    "#ZIP code\n",
    "string1= \"11422 11422-7903 11598 11678787 11678-23 11723 11898-111 22222222-6666 14567-999999 11111-2222\"\n",
    "regex= re.compile(r\"(\\b\\d{5}-\\d{4}\\b|\\b\\d{5}\\b\\s)\")\n",
    "matches= re.findall(regex, string1)\n",
    "for i in matches:\n",
    "    print(i)"
   ]
  },
  {
   "cell_type": "code",
   "execution_count": 14,
   "metadata": {},
   "outputs": [
    {
     "name": "stdout",
     "output_type": "stream",
     "text": [
      "11422 \n",
      "11422-7903\n",
      "11598 \n",
      "11723 \n",
      "11111-2222\n"
     ]
    }
   ],
   "source": [
    "#month and Date\n"
   ]
  },
  {
   "cell_type": "code",
   "execution_count": 33,
   "metadata": {},
   "outputs": [
    {
     "ename": "SyntaxError",
     "evalue": "invalid syntax (<ipython-input-33-6ff944220983>, line 7)",
     "output_type": "error",
     "traceback": [
      "\u001b[1;36m  File \u001b[1;32m\"<ipython-input-33-6ff944220983>\"\u001b[1;36m, line \u001b[1;32m7\u001b[0m\n\u001b[1;33m    String= \"6244-5567-8912-3458\"\u001b[0m\n\u001b[1;37m         ^\u001b[0m\n\u001b[1;31mSyntaxError\u001b[0m\u001b[1;31m:\u001b[0m invalid syntax\n"
     ]
    }
   ],
   "source": [
    "#text =\"Oscas okwero was  ffdfd dfsdsa = 7569-3004-8432-8647  also 7569-3004-8432-8647\"\n",
    "pattern = re.compile(r'(?:\\d{4}-){3}\\d{4}|\\d{16}')\n",
    "\n",
    "def count_consecutive(num):\n",
    "    return max(len(list(g)) for _, g in groupby(num)\n",
    "\n",
    "String= \"6244-5567-8912-3458\"\n",
    "if not pattern.fullmatch(string) or count_consecutive(string.replace('-', '')) >= 4:\n",
    "    print('Failed')\n",
    "else:\n",
    "   print('Success')\n",
    "\n",
    "    \n",
    "              "
   ]
  },
  {
   "cell_type": "code",
   "execution_count": null,
   "metadata": {},
   "outputs": [],
   "source": []
  },
  {
   "cell_type": "code",
   "execution_count": null,
   "metadata": {},
   "outputs": [],
   "source": []
  },
  {
   "cell_type": "code",
   "execution_count": null,
   "metadata": {},
   "outputs": [],
   "source": []
  }
 ],
 "metadata": {
  "kernelspec": {
   "display_name": "Python 3",
   "language": "python",
   "name": "python3"
  },
  "language_info": {
   "codemirror_mode": {
    "name": "ipython",
    "version": 3
   },
   "file_extension": ".py",
   "mimetype": "text/x-python",
   "name": "python",
   "nbconvert_exporter": "python",
   "pygments_lexer": "ipython3",
   "version": "3.7.3"
  }
 },
 "nbformat": 4,
 "nbformat_minor": 2
}
